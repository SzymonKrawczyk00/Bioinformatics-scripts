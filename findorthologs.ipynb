{
 "cells": [
  {
   "cell_type": "code",
   "execution_count": 6,
   "metadata": {},
   "outputs": [],
   "source": [
    "from Bio.Blast.Applications import NcbiblastpCommandline"
   ]
  },
  {
   "cell_type": "code",
   "execution_count": 7,
   "metadata": {},
   "outputs": [],
   "source": [
    "import pandas as pd "
   ]
  },
  {
   "cell_type": "code",
   "execution_count": 8,
   "metadata": {},
   "outputs": [],
   "source": [
    "from Bio.Blast.Applications import NcbiblastxCommandline"
   ]
  },
  {
   "cell_type": "code",
   "execution_count": 11,
   "metadata": {},
   "outputs": [
    {
     "data": {
      "text/html": [
       "<div>\n",
       "<style scoped>\n",
       "    .dataframe tbody tr th:only-of-type {\n",
       "        vertical-align: middle;\n",
       "    }\n",
       "\n",
       "    .dataframe tbody tr th {\n",
       "        vertical-align: top;\n",
       "    }\n",
       "\n",
       "    .dataframe thead th {\n",
       "        text-align: right;\n",
       "    }\n",
       "</style>\n",
       "<table border=\"1\" class=\"dataframe\">\n",
       "  <thead>\n",
       "    <tr style=\"text-align: right;\">\n",
       "      <th></th>\n",
       "      <th>id</th>\n",
       "      <th>seq</th>\n",
       "      <th>Organism</th>\n",
       "    </tr>\n",
       "  </thead>\n",
       "  <tbody>\n",
       "    <tr>\n",
       "      <th>0</th>\n",
       "      <td>at2g05380.1</td>\n",
       "      <td>masktllllglfaflfivsemaaagtvkseseetvkpeqhgggfgd...</td>\n",
       "      <td>Arabidpsis Thaliana</td>\n",
       "    </tr>\n",
       "    <tr>\n",
       "      <th>1</th>\n",
       "      <td>at2g05380.2</td>\n",
       "      <td>masktllllglfaflfivsemaaagtvkseseetvkpeqhgggfgd...</td>\n",
       "      <td>Arabidpsis Thaliana</td>\n",
       "    </tr>\n",
       "    <tr>\n",
       "      <th>2</th>\n",
       "      <td>at2g05380.3</td>\n",
       "      <td>mgtyyssqvlssickkmasktllllglfaflfivsemaaagtvkse...</td>\n",
       "      <td>Arabidpsis Thaliana</td>\n",
       "    </tr>\n",
       "    <tr>\n",
       "      <th>3</th>\n",
       "      <td>at2g05440.1</td>\n",
       "      <td>maskalillglfsvllvvsevsaarqsgmvkpeseetvqpegyggg...</td>\n",
       "      <td>Arabidpsis Thaliana</td>\n",
       "    </tr>\n",
       "    <tr>\n",
       "      <th>4</th>\n",
       "      <td>at2g05440.2</td>\n",
       "      <td>maskalillglfsvllvvsevsaarqsgmvkpeseetvqpegyggg...</td>\n",
       "      <td>Arabidpsis Thaliana</td>\n",
       "    </tr>\n",
       "    <tr>\n",
       "      <th>...</th>\n",
       "      <td>...</td>\n",
       "      <td>...</td>\n",
       "      <td>...</td>\n",
       "    </tr>\n",
       "    <tr>\n",
       "      <th>297</th>\n",
       "      <td>KAG2329524,1</td>\n",
       "      <td>mafckslggklrqgavsqtsnvlvqsmlgslwyistklfvgglswg...</td>\n",
       "      <td>Brassica carinata]</td>\n",
       "    </tr>\n",
       "    <tr>\n",
       "      <th>298</th>\n",
       "      <td>KAG2325919,1</td>\n",
       "      <td>mafckslggllrqgavtqtgnvpvtsmlgslrymstklfvgglswg...</td>\n",
       "      <td>Brassica carinata]</td>\n",
       "    </tr>\n",
       "    <tr>\n",
       "      <th>299</th>\n",
       "      <td>KAG2314518,1</td>\n",
       "      <td>mafckslggllrqgavsqtgnvpvqsmlgslrymstkifvgglswg...</td>\n",
       "      <td>Brassica carinata]</td>\n",
       "    </tr>\n",
       "    <tr>\n",
       "      <th>300</th>\n",
       "      <td>KAG2255497,1</td>\n",
       "      <td>mafcknlggllrqgavsqtgnvpvqsmlgslrymstklfvgglswg...</td>\n",
       "      <td>Brassica carinata]</td>\n",
       "    </tr>\n",
       "    <tr>\n",
       "      <th>301</th>\n",
       "      <td>KAG2251632,1</td>\n",
       "      <td>mafckslggllrqgvvsqtgnvpvtsmlgslrymstklfvgglswg...</td>\n",
       "      <td>Brassica carinata]</td>\n",
       "    </tr>\n",
       "  </tbody>\n",
       "</table>\n",
       "<p>302 rows × 3 columns</p>\n",
       "</div>"
      ],
      "text/plain": [
       "               id                                                seq  \\\n",
       "0     at2g05380.1  masktllllglfaflfivsemaaagtvkseseetvkpeqhgggfgd...   \n",
       "1     at2g05380.2  masktllllglfaflfivsemaaagtvkseseetvkpeqhgggfgd...   \n",
       "2     at2g05380.3  mgtyyssqvlssickkmasktllllglfaflfivsemaaagtvkse...   \n",
       "3     at2g05440.1  maskalillglfsvllvvsevsaarqsgmvkpeseetvqpegyggg...   \n",
       "4     at2g05440.2  maskalillglfsvllvvsevsaarqsgmvkpeseetvqpegyggg...   \n",
       "..            ...                                                ...   \n",
       "297  KAG2329524,1  mafckslggklrqgavsqtsnvlvqsmlgslwyistklfvgglswg...   \n",
       "298  KAG2325919,1  mafckslggllrqgavtqtgnvpvtsmlgslrymstklfvgglswg...   \n",
       "299  KAG2314518,1  mafckslggllrqgavsqtgnvpvqsmlgslrymstkifvgglswg...   \n",
       "300  KAG2255497,1  mafcknlggllrqgavsqtgnvpvqsmlgslrymstklfvgglswg...   \n",
       "301  KAG2251632,1  mafckslggllrqgvvsqtgnvpvtsmlgslrymstklfvgglswg...   \n",
       "\n",
       "                Organism  \n",
       "0    Arabidpsis Thaliana  \n",
       "1    Arabidpsis Thaliana  \n",
       "2    Arabidpsis Thaliana  \n",
       "3    Arabidpsis Thaliana  \n",
       "4    Arabidpsis Thaliana  \n",
       "..                   ...  \n",
       "297   Brassica carinata]  \n",
       "298   Brassica carinata]  \n",
       "299   Brassica carinata]  \n",
       "300   Brassica carinata]  \n",
       "301   Brassica carinata]  \n",
       "\n",
       "[302 rows x 3 columns]"
      ]
     },
     "execution_count": 11,
     "metadata": {},
     "output_type": "execute_result"
    }
   ],
   "source": [
    "df = pd.read_excel('onlygrp.xlsx', sheet_name='Sheet1')\n",
    "df"
   ]
  },
  {
   "cell_type": "code",
   "execution_count": 12,
   "metadata": {},
   "outputs": [],
   "source": [
    "arabidopsis_id = [] \n",
    "arabidopsis_seq = []\n",
    "rest_id = [] \n",
    "rest_seq = []\n",
    "result = []\n",
    "\n",
    "for index, row in df.iterrows():\n",
    "    if row['Organism'] == 'Arabidpsis Thaliana': \n",
    "        arabidopsis_id.append(row['id'])\n",
    "        arabidopsis_seq.append(row['seq'])\n",
    "    if row['Organism'] != 'Arabidpsis Thaliana': \n",
    "        rest_id.append(row['id'])\n",
    "        rest_seq.append(row['seq'])  \n"
   ]
  },
  {
   "cell_type": "code",
   "execution_count": 13,
   "metadata": {},
   "outputs": [],
   "source": [
    "for i in range(0,len(rest_id)):\n",
    "    file = open(f'{rest_id[i]}.fasta', 'w')\n",
    "    file.write(f'>{rest_id[i]}\\n{rest_seq[i]}\\n')"
   ]
  },
  {
   "cell_type": "code",
   "execution_count": 14,
   "metadata": {},
   "outputs": [],
   "source": [
    "file = open('ara.fasta','w')\n",
    "for i in range(0,len(arabidopsis_id)):\n",
    "    file.write(f'>{arabidopsis_id[i]}\\n{arabidopsis_seq[i]}\\n')"
   ]
  },
  {
   "cell_type": "code",
   "execution_count": 15,
   "metadata": {},
   "outputs": [],
   "source": [
    "from Bio.Blast import NCBIWWW\n",
    "import os "
   ]
  },
  {
   "cell_type": "code",
   "execution_count": 16,
   "metadata": {
    "scrolled": true
   },
   "outputs": [
    {
     "name": "stdout",
     "output_type": "stream",
     "text": [
      "\n",
      "\n",
      "Building a new DB, current time: 07/18/2023 11:12:55\n",
      "New DB name:   /home/ubuntu/Desktop/blast/ara.db\n",
      "New DB title:  ara.fasta\n",
      "Sequence type: Protein\n",
      "Keep MBits: T\n",
      "Maximum file size: 1000000000B\n",
      "Adding sequences from FASTA; added 44 sequences in 0.015682 seconds.\n"
     ]
    },
    {
     "data": {
      "text/plain": [
       "0"
      ]
     },
     "execution_count": 16,
     "metadata": {},
     "output_type": "execute_result"
    }
   ],
   "source": [
    "os.system('makeblastdb -in ara.fasta -dbtype prot -out ara.db')"
   ]
  },
  {
   "cell_type": "code",
   "execution_count": 26,
   "metadata": {},
   "outputs": [],
   "source": [
    "blastx_cline = NcbiblastxCommandline(query='a0a0d2zrf8.fasta', db='ara.db', out=\"my_blast.xml\")"
   ]
  },
  {
   "cell_type": "code",
   "execution_count": 98,
   "metadata": {},
   "outputs": [],
   "source": [
    "#a0a0d2zrf8.fasta\n",
    "\n",
    "\n",
    "for i in rest_id:\n",
    "    S = f'blastp -query={i}.fasta -db ara.db -out {i}.out -outfmt 6'\n",
    "    result.append(os.system(S))"
   ]
  },
  {
   "cell_type": "code",
   "execution_count": 117,
   "metadata": {},
   "outputs": [],
   "source": [
    "result_id = []\n",
    "result_ev = []\n",
    "\n",
    "for i in rest_id: \n",
    "    #print(os.path.getsize(f'{i}.out'))\n",
    "    if os.path.getsize(f'{i}.out') != 0:\n",
    "        data = pd.read_table(f'{i}.out',delimiter='\\t',header=None)\n",
    "        #print(data)\n",
    "        #result.append(data.iloc[[0,1],[0,10]])\n",
    "        result_id.append(data.loc[0,1])\n",
    "        result_ev.append(data.loc[0,10])\n",
    "    if os.path.getsize(f'{i}.out') == 0:\n",
    "        result_id.append('-')\n",
    "        result_ev.append('-')"
   ]
  },
  {
   "cell_type": "code",
   "execution_count": 118,
   "metadata": {},
   "outputs": [
    {
     "data": {
      "text/plain": [
       "243"
      ]
     },
     "execution_count": 118,
     "metadata": {},
     "output_type": "execute_result"
    }
   ],
   "source": [
    "len(result_id)"
   ]
  },
  {
   "cell_type": "code",
   "execution_count": 119,
   "metadata": {},
   "outputs": [
    {
     "data": {
      "text/plain": [
       "243"
      ]
     },
     "execution_count": 119,
     "metadata": {},
     "output_type": "execute_result"
    }
   ],
   "source": [
    "len(result_ev)"
   ]
  },
  {
   "cell_type": "code",
   "execution_count": 120,
   "metadata": {},
   "outputs": [
    {
     "data": {
      "text/plain": [
       "243"
      ]
     },
     "execution_count": 120,
     "metadata": {},
     "output_type": "execute_result"
    }
   ],
   "source": [
    "len(rest_id)"
   ]
  },
  {
   "cell_type": "code",
   "execution_count": 121,
   "metadata": {},
   "outputs": [
    {
     "name": "stdout",
     "output_type": "stream",
     "text": [
      "['at2g05520.6', '-', 'at2g21060.1', 'at2g21060.1', 'at4g13850.3', 'at4g13850.3', 'at2g05520.5', 'at2g05520.5', 'at4g13850.3', 'at2g32690.4', 'at2g05520.5', '-', 'at2g05530.1', '-', '-', 'caa77881.1', '-', 'caa77882.1', 'q9ly09', 'q9ly09', '-', 'at2g05520.5', 'at2g32690.2', '-', '-', '-', 'q9ly09', '-', '-', '-', '-', '-', 'q9ly09', 'q9ly09', 'at2g05520.5', 'caa77882.1', '-', 'caa77882.1', 'q9ly09', '-', '-', '-', 'caa77881.1', '-', '-', '-', '-', '-', '-', '-', 'at2g05520.6', 'at2g05540.1', 'at2g05520.2', 'cad5318179', 'cad5318179', 'cad5318179', 'cad5318179', 'cad5318179', 'cad5318179', '-', 'caa77881.1', 'caa77881.1', '-', '-', '-', '-', '-', 'at2g05530.2', 'caa77881.1', 'q9ly08', 'caa77882.1', 'caa77881.1', '-', 'at2g05530.2', '-', '-', '-', 'q9ly08', 'caa77881.1', 'at2g05520.4', 'q9ly08', 'at2g05530.2', 'at2g05380.2', 'at4g13850.1', 'cad5318179', '-', 'at2g05510.2', '-', '-', 'at2g05380.2', 'caa77881.1', 'caa77881.1', 'at2g21660.2', '-', '-', '-', '-', 'caa77881.1', 'caa77882.1', '-', 'cad5318179', '-', 'cad5318179', 'caa77882.1', '-', 'caa77882.1', 'cad5318179', '-', '-', '-', 'q9ly08', 'q9ly09', 'q9ly09', '-', 'at2g05510.3', 'caa77882.1', 'at2g05530.2', 'at2g05440.6', '-', '-', 'at2g05520.3', 'at2g21660.2', 'at4g13850.3', 'at2g21660.2', 'at4g13850.3', 'at4g13850.3', 'at4g13850.3', 'at2g21660.2', 'at2g05520.6', 'at2g05520.3', 'at4g13850.3', '-', '-', '-', 'caa77881.1', 'at2g32690.4', 'at2g32690.2', 'at2g21060.1', 'caa77881.1', '-', 'cad5318179', '-', '-', '-', 'at2g05520.5', 'at2g05520.5', 'at2g05520.5', 'at2g05520.5', 'at2g05520.3', 'at2g05520.3', 'at2g05520.3', 'at2g05520.5', 'at4g13850.2', 'at4g13850.3', 'at4g13850.3', 'at4g13850.3', '-', '-', 'at4g13850.3', '-', 'q9ly09', '-', 'at2g05440.8', '-', 'at2g21660.2', 'q9ly08', '-', 'at2g21660.2', '-', '-', 'at4g13850.2', 'at4g13850.3', 'at4g13850.2', 'at4g13850.2', 'at4g13850.2', 'at4g13850.3', 'at4g13850.2', 'at4g13850.3', 'at4g13850.3', 'at4g13850.3', 'at4g13850.2', 'caa77881.1', 'at2g21660.1', 'at2g05520.5', 'at2g05520.5', 'at2g05520.6', 'at2g05520.3', 'at2g05520.5', 'at2g05520.3', 'at4g13850.3', 'at2g05520.5', 'at2g05520.5', 'at2g05520.5', 'at2g05520.5', 'at2g05520.5', 'at2g05520.3', 'at4g13850.3', 'at4g13850.3', 'at4g13850.3', 'at4g13850.3', 'at4g13850.2', 'at4g13850.2', 'at4g13850.3', 'at4g13850.3', 'at2g21660.2', 'at2g21660.1', 'at4g13850.2', 'at2g21660.2', 'at4g13850.2', 'at4g13850.3', 'at2g21660.2', 'at4g13850.3', 'at4g13850.1', 'at4g13850.3', 'at2g21660.2', 'at4g13850.1', 'at4g13850.3', 'at4g13850.3', 'at2g21660.2', 'at2g21660.2', 'at2g21660.2', 'at4g13850.2', 'at4g13850.2', 'at4g13850.2', 'at4g13850.3', 'at4g13850.3', 'at4g13850.2', 'at2g21660.1', '-', 'at2g05520.5', '-', 'at4g13850.3', 'at4g13850.2', 'at4g13850.2', 'at4g13850.3', 'at2g05520.5', 'at4g13850.3', '-', 'at4g13850.3', 'at4g13850.3', 'at4g13850.3', 'at4g13850.3', 'at4g13850.3']\n"
     ]
    }
   ],
   "source": [
    "print(result_id)"
   ]
  },
  {
   "cell_type": "code",
   "execution_count": 122,
   "metadata": {},
   "outputs": [
    {
     "data": {
      "text/plain": [
       "302"
      ]
     },
     "execution_count": 122,
     "metadata": {},
     "output_type": "execute_result"
    }
   ],
   "source": [
    "new_col_id = []\n",
    "new_col_ev = []\n",
    "for i in range(0,len(arabidopsis_id)):\n",
    "    new_col_id.append('-')\n",
    "    new_col_ev.append('-')\n",
    "for i in range(0,len(result_id)):\n",
    "    new_col_id.append(result_id[i])\n",
    "    new_col_ev.append(result_ev[i])\n",
    "len(new_col_id)"
   ]
  },
  {
   "cell_type": "code",
   "execution_count": 125,
   "metadata": {},
   "outputs": [
    {
     "name": "stdout",
     "output_type": "stream",
     "text": [
      "               id                                                seq  \\\n",
      "0     at2g05380.1  masktllllglfaflfivsemaaagtvkseseetvkpeqhgggfgd...   \n",
      "1     at2g05380.2  masktllllglfaflfivsemaaagtvkseseetvkpeqhgggfgd...   \n",
      "2     at2g05380.3  mgtyyssqvlssickkmasktllllglfaflfivsemaaagtvkse...   \n",
      "3     at2g05440.1  maskalillglfsvllvvsevsaarqsgmvkpeseetvqpegyggg...   \n",
      "4     at2g05440.2  maskalillglfsvllvvsevsaarqsgmvkpeseetvqpegyggg...   \n",
      "..            ...                                                ...   \n",
      "297  KAG2329524,1  mafckslggklrqgavsqtsnvlvqsmlgslwyistklfvgglswg...   \n",
      "298  KAG2325919,1  mafckslggllrqgavtqtgnvpvtsmlgslrymstklfvgglswg...   \n",
      "299  KAG2314518,1  mafckslggllrqgavsqtgnvpvqsmlgslrymstkifvgglswg...   \n",
      "300  KAG2255497,1  mafcknlggllrqgavsqtgnvpvqsmlgslrymstklfvgglswg...   \n",
      "301  KAG2251632,1  mafckslggllrqgvvsqtgnvpvtsmlgslrymstklfvgglswg...   \n",
      "\n",
      "                Organism     ortholog evalue  \n",
      "0    Arabidpsis Thaliana            -      -  \n",
      "1    Arabidpsis Thaliana            -      -  \n",
      "2    Arabidpsis Thaliana            -      -  \n",
      "3    Arabidpsis Thaliana            -      -  \n",
      "4    Arabidpsis Thaliana            -      -  \n",
      "..                   ...          ...    ...  \n",
      "297   Brassica carinata]  at4g13850.3    0.0  \n",
      "298   Brassica carinata]  at4g13850.3    0.0  \n",
      "299   Brassica carinata]  at4g13850.3    0.0  \n",
      "300   Brassica carinata]  at4g13850.3    0.0  \n",
      "301   Brassica carinata]  at4g13850.3    0.0  \n",
      "\n",
      "[302 rows x 5 columns]\n"
     ]
    }
   ],
   "source": [
    "df['ortholog'] = new_col_id\n",
    "df['evalue'] = new_col_ev\n",
    "print(df)"
   ]
  },
  {
   "cell_type": "code",
   "execution_count": 126,
   "metadata": {},
   "outputs": [],
   "source": [
    "df.to_excel('output.xlsx')"
   ]
  },
  {
   "cell_type": "code",
   "execution_count": null,
   "metadata": {},
   "outputs": [],
   "source": []
  }
 ],
 "metadata": {
  "kernelspec": {
   "display_name": "Python 3 (ipykernel)",
   "language": "python",
   "name": "python3"
  },
  "language_info": {
   "codemirror_mode": {
    "name": "ipython",
    "version": 3
   },
   "file_extension": ".py",
   "mimetype": "text/x-python",
   "name": "python",
   "nbconvert_exporter": "python",
   "pygments_lexer": "ipython3",
   "version": "3.8.10"
  }
 },
 "nbformat": 4,
 "nbformat_minor": 5
}
